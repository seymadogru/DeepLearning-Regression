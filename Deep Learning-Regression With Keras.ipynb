{
 "cells": [
  {
   "cell_type": "code",
   "execution_count": 1,
   "id": "d5d57f9e",
   "metadata": {},
   "outputs": [
    {
     "data": {
      "text/html": [
       "<div>\n",
       "<style scoped>\n",
       "    .dataframe tbody tr th:only-of-type {\n",
       "        vertical-align: middle;\n",
       "    }\n",
       "\n",
       "    .dataframe tbody tr th {\n",
       "        vertical-align: top;\n",
       "    }\n",
       "\n",
       "    .dataframe thead th {\n",
       "        text-align: right;\n",
       "    }\n",
       "</style>\n",
       "<table border=\"1\" class=\"dataframe\">\n",
       "  <thead>\n",
       "    <tr style=\"text-align: right;\">\n",
       "      <th></th>\n",
       "      <th>symboling</th>\n",
       "      <th>CarName</th>\n",
       "      <th>fueltype</th>\n",
       "      <th>aspiration</th>\n",
       "      <th>doornumber</th>\n",
       "      <th>carbody</th>\n",
       "      <th>drivewheel</th>\n",
       "      <th>enginelocation</th>\n",
       "      <th>wheelbase</th>\n",
       "      <th>carlength</th>\n",
       "      <th>...</th>\n",
       "      <th>enginesize</th>\n",
       "      <th>fuelsystem</th>\n",
       "      <th>boreratio</th>\n",
       "      <th>stroke</th>\n",
       "      <th>compressionratio</th>\n",
       "      <th>horsepower</th>\n",
       "      <th>peakrpm</th>\n",
       "      <th>citympg</th>\n",
       "      <th>highwaympg</th>\n",
       "      <th>price</th>\n",
       "    </tr>\n",
       "  </thead>\n",
       "  <tbody>\n",
       "    <tr>\n",
       "      <th>0</th>\n",
       "      <td>3</td>\n",
       "      <td>alfa-romero giulia</td>\n",
       "      <td>gas</td>\n",
       "      <td>std</td>\n",
       "      <td>two</td>\n",
       "      <td>convertible</td>\n",
       "      <td>rwd</td>\n",
       "      <td>front</td>\n",
       "      <td>88.6</td>\n",
       "      <td>168.8</td>\n",
       "      <td>...</td>\n",
       "      <td>130</td>\n",
       "      <td>mpfi</td>\n",
       "      <td>3.47</td>\n",
       "      <td>2.68</td>\n",
       "      <td>9.0</td>\n",
       "      <td>111</td>\n",
       "      <td>5000</td>\n",
       "      <td>21</td>\n",
       "      <td>27</td>\n",
       "      <td>13495.0</td>\n",
       "    </tr>\n",
       "    <tr>\n",
       "      <th>1</th>\n",
       "      <td>3</td>\n",
       "      <td>alfa-romero stelvio</td>\n",
       "      <td>gas</td>\n",
       "      <td>std</td>\n",
       "      <td>two</td>\n",
       "      <td>convertible</td>\n",
       "      <td>rwd</td>\n",
       "      <td>front</td>\n",
       "      <td>88.6</td>\n",
       "      <td>168.8</td>\n",
       "      <td>...</td>\n",
       "      <td>130</td>\n",
       "      <td>mpfi</td>\n",
       "      <td>3.47</td>\n",
       "      <td>2.68</td>\n",
       "      <td>9.0</td>\n",
       "      <td>111</td>\n",
       "      <td>5000</td>\n",
       "      <td>21</td>\n",
       "      <td>27</td>\n",
       "      <td>16500.0</td>\n",
       "    </tr>\n",
       "    <tr>\n",
       "      <th>2</th>\n",
       "      <td>1</td>\n",
       "      <td>alfa-romero Quadrifoglio</td>\n",
       "      <td>gas</td>\n",
       "      <td>std</td>\n",
       "      <td>two</td>\n",
       "      <td>hatchback</td>\n",
       "      <td>rwd</td>\n",
       "      <td>front</td>\n",
       "      <td>94.5</td>\n",
       "      <td>171.2</td>\n",
       "      <td>...</td>\n",
       "      <td>152</td>\n",
       "      <td>mpfi</td>\n",
       "      <td>2.68</td>\n",
       "      <td>3.47</td>\n",
       "      <td>9.0</td>\n",
       "      <td>154</td>\n",
       "      <td>5000</td>\n",
       "      <td>19</td>\n",
       "      <td>26</td>\n",
       "      <td>16500.0</td>\n",
       "    </tr>\n",
       "    <tr>\n",
       "      <th>3</th>\n",
       "      <td>2</td>\n",
       "      <td>audi 100 ls</td>\n",
       "      <td>gas</td>\n",
       "      <td>std</td>\n",
       "      <td>four</td>\n",
       "      <td>sedan</td>\n",
       "      <td>fwd</td>\n",
       "      <td>front</td>\n",
       "      <td>99.8</td>\n",
       "      <td>176.6</td>\n",
       "      <td>...</td>\n",
       "      <td>109</td>\n",
       "      <td>mpfi</td>\n",
       "      <td>3.19</td>\n",
       "      <td>3.40</td>\n",
       "      <td>10.0</td>\n",
       "      <td>102</td>\n",
       "      <td>5500</td>\n",
       "      <td>24</td>\n",
       "      <td>30</td>\n",
       "      <td>13950.0</td>\n",
       "    </tr>\n",
       "    <tr>\n",
       "      <th>4</th>\n",
       "      <td>2</td>\n",
       "      <td>audi 100ls</td>\n",
       "      <td>gas</td>\n",
       "      <td>std</td>\n",
       "      <td>four</td>\n",
       "      <td>sedan</td>\n",
       "      <td>4wd</td>\n",
       "      <td>front</td>\n",
       "      <td>99.4</td>\n",
       "      <td>176.6</td>\n",
       "      <td>...</td>\n",
       "      <td>136</td>\n",
       "      <td>mpfi</td>\n",
       "      <td>3.19</td>\n",
       "      <td>3.40</td>\n",
       "      <td>8.0</td>\n",
       "      <td>115</td>\n",
       "      <td>5500</td>\n",
       "      <td>18</td>\n",
       "      <td>22</td>\n",
       "      <td>17450.0</td>\n",
       "    </tr>\n",
       "  </tbody>\n",
       "</table>\n",
       "<p>5 rows × 25 columns</p>\n",
       "</div>"
      ],
      "text/plain": [
       "   symboling                   CarName fueltype aspiration doornumber  \\\n",
       "0          3        alfa-romero giulia      gas        std        two   \n",
       "1          3       alfa-romero stelvio      gas        std        two   \n",
       "2          1  alfa-romero Quadrifoglio      gas        std        two   \n",
       "3          2               audi 100 ls      gas        std       four   \n",
       "4          2                audi 100ls      gas        std       four   \n",
       "\n",
       "       carbody drivewheel enginelocation  wheelbase  carlength  ...  \\\n",
       "0  convertible        rwd          front       88.6      168.8  ...   \n",
       "1  convertible        rwd          front       88.6      168.8  ...   \n",
       "2    hatchback        rwd          front       94.5      171.2  ...   \n",
       "3        sedan        fwd          front       99.8      176.6  ...   \n",
       "4        sedan        4wd          front       99.4      176.6  ...   \n",
       "\n",
       "   enginesize  fuelsystem  boreratio stroke compressionratio  horsepower  \\\n",
       "0         130        mpfi       3.47   2.68              9.0         111   \n",
       "1         130        mpfi       3.47   2.68              9.0         111   \n",
       "2         152        mpfi       2.68   3.47              9.0         154   \n",
       "3         109        mpfi       3.19   3.40             10.0         102   \n",
       "4         136        mpfi       3.19   3.40              8.0         115   \n",
       "\n",
       "  peakrpm  citympg  highwaympg    price  \n",
       "0    5000       21          27  13495.0  \n",
       "1    5000       21          27  16500.0  \n",
       "2    5000       19          26  16500.0  \n",
       "3    5500       24          30  13950.0  \n",
       "4    5500       18          22  17450.0  \n",
       "\n",
       "[5 rows x 25 columns]"
      ]
     },
     "execution_count": 1,
     "metadata": {},
     "output_type": "execute_result"
    }
   ],
   "source": [
    "import numpy as np\n",
    "import pandas as pd\n",
    "import matplotlib.pyplot as plt\n",
    "import scipy\n",
    "import seaborn as sns\n",
    "from sklearn import linear_model\n",
    "%matplotlib inline\n",
    "\n",
    "import warnings\n",
    "warnings.filterwarnings('ignore')\n",
    "car_prices = pd.read_csv('CarPrice_Assignment.csv')\n",
    "car_prices.drop('car_ID', axis=1,inplace=True)\n",
    "car_prices.head()"
   ]
  },
  {
   "cell_type": "code",
   "execution_count": 2,
   "id": "77691dfb",
   "metadata": {},
   "outputs": [
    {
     "data": {
      "text/plain": [
       "array(['alfa-romero', 'audi', 'bmw', 'chevrolet', 'dodge', 'honda',\n",
       "       'isuzu', 'jaguar', 'maxda', 'mazda', 'buick', 'mercury',\n",
       "       'mitsubishi', 'Nissan', 'nissan', 'peugeot', 'plymouth', 'porsche',\n",
       "       'porcshce', 'renault', 'saab', 'subaru', 'toyota', 'toyouta',\n",
       "       'vokswagen', 'volkswagen', 'vw', 'volvo'], dtype=object)"
      ]
     },
     "execution_count": 2,
     "metadata": {},
     "output_type": "execute_result"
    }
   ],
   "source": [
    "CompanyName = car_prices['CarName'].apply(lambda x : x.split(' ')[0])\n",
    "car_prices.insert(3,\"CompanyName\",CompanyName)\n",
    "car_prices.CompanyName.unique()"
   ]
  },
  {
   "cell_type": "code",
   "execution_count": 3,
   "id": "0d88d0f3",
   "metadata": {},
   "outputs": [
    {
     "data": {
      "text/plain": [
       "array(['alfa-romeo', 'audi', 'bmw', 'chevrolet', 'dodge', 'honda',\n",
       "       'isuzu', 'jaguar', 'mazda', 'buick', 'mercury', 'mitsubishi',\n",
       "       'nissan', 'peugeot', 'plymouth', 'porsche', 'renault', 'saab',\n",
       "       'subaru', 'toyota', 'volkswagen', 'volvo'], dtype=object)"
      ]
     },
     "execution_count": 3,
     "metadata": {},
     "output_type": "execute_result"
    }
   ],
   "source": [
    "car_prices = car_prices.replace(to_replace =\"alfa-romero\", value =\"alfa-romeo\") \n",
    "car_prices = car_prices.replace(to_replace =\"maxda\", value =\"mazda\") \n",
    "car_prices = car_prices.replace(to_replace =\"porcshce\", value =\"porsche\") \n",
    "car_prices = car_prices.replace(to_replace =\"toyouta\", value =\"toyota\") \n",
    "car_prices = car_prices.replace(to_replace =\"vokswagen\", value =\"volkswagen\") \n",
    "car_prices = car_prices.replace(to_replace =\"vw\", value =\"volkswagen\")\n",
    "car_prices = car_prices.replace(to_replace =\"Nissan\", value =\"nissan\")\n",
    "car_prices.CompanyName.unique()"
   ]
  },
  {
   "cell_type": "code",
   "execution_count": 4,
   "id": "2655d9a8",
   "metadata": {},
   "outputs": [],
   "source": [
    "from sklearn import preprocessing\n",
    "\n",
    "label_encoder = preprocessing.LabelEncoder()\n",
    "car_prices['CompanyName']= label_encoder.fit_transform(car_prices['CompanyName'])\n",
    "car_prices['carbody']= label_encoder.fit_transform(car_prices['carbody'])\n",
    "car_prices['fueltype']= label_encoder.fit_transform(car_prices['fueltype'])\n",
    "car_prices['aspiration']= label_encoder.fit_transform(car_prices['aspiration'])\n",
    "car_prices[\"doornumber\"] = car_prices.doornumber.replace({'two':2, \"four\":4})\n",
    "car_prices['fuelsystem']= label_encoder.fit_transform(car_prices['fuelsystem'])\n",
    "car_prices['enginelocation']= label_encoder.fit_transform(car_prices['enginelocation'])\n",
    "car_prices['drivewheel']= label_encoder.fit_transform(car_prices['drivewheel'])\n",
    "car_prices['enginetype']= label_encoder.fit_transform(car_prices['enginetype'])\n",
    "car_prices['cylindernumber']= label_encoder.fit_transform(car_prices['cylindernumber'])"
   ]
  },
  {
   "cell_type": "code",
   "execution_count": 5,
   "id": "6d53b1ef",
   "metadata": {},
   "outputs": [],
   "source": [
    "from tensorflow.keras.models import Sequential\n",
    "model = Sequential()"
   ]
  },
  {
   "cell_type": "code",
   "execution_count": 6,
   "id": "2e457de8",
   "metadata": {},
   "outputs": [],
   "source": [
    "from sklearn.model_selection import train_test_split\n",
    "Y = car_prices['price']\n",
    "X = car_prices.drop(columns=['price','CarName'], axis=1)\n",
    "\n",
    "X_train, X_test, y_train, y_test = train_test_split(X, Y, test_size = 0.08, random_state = 0)"
   ]
  },
  {
   "cell_type": "code",
   "execution_count": 7,
   "id": "0fd62f6a",
   "metadata": {},
   "outputs": [
    {
     "name": "stdout",
     "output_type": "stream",
     "text": [
      "Shape of train set (X) : (188, 24)\n",
      "Shape of train set (y) : (188,)\n",
      "Shape of test set  (X) : (17, 24)\n",
      "Shape of test set  (y) : (17,)\n"
     ]
    }
   ],
   "source": [
    "print(\"Shape of train set (X) :\", X_train.shape)\n",
    "print(\"Shape of train set (y) :\", y_train.shape)\n",
    "print(\"Shape of test set  (X) :\", X_test.shape)\n",
    "print(\"Shape of test set  (y) :\", y_test.shape)"
   ]
  },
  {
   "cell_type": "code",
   "execution_count": 8,
   "id": "9db2619e",
   "metadata": {},
   "outputs": [],
   "source": [
    "from tensorflow.keras.layers import Dense\n",
    "\n",
    "input_number = X_train.shape[1] \n",
    "\n",
    "model = Sequential()\n",
    "\n",
    "model.add(Dense(32, activation='relu', input_shape=(input_number,), name = \"Hidden_Layer_1\"))"
   ]
  },
  {
   "cell_type": "code",
   "execution_count": 9,
   "id": "d70ed549",
   "metadata": {},
   "outputs": [],
   "source": [
    "model.add(Dense(8, activation='relu', name = \"Hidden_Layer_2\"))"
   ]
  },
  {
   "cell_type": "code",
   "execution_count": 10,
   "id": "ca74dfd7",
   "metadata": {},
   "outputs": [],
   "source": [
    "model.add(Dense(2, activation='relu', name=\"Hidden_Layer_3\"))"
   ]
  },
  {
   "cell_type": "code",
   "execution_count": 11,
   "id": "ddf4b85c",
   "metadata": {},
   "outputs": [],
   "source": [
    "model.add(Dense(1, name = \"Output\"))"
   ]
  },
  {
   "cell_type": "code",
   "execution_count": 12,
   "id": "66c92df0",
   "metadata": {},
   "outputs": [
    {
     "name": "stdout",
     "output_type": "stream",
     "text": [
      "Model: \"sequential_1\"\n",
      "_________________________________________________________________\n",
      " Layer (type)                Output Shape              Param #   \n",
      "=================================================================\n",
      " Hidden_Layer_1 (Dense)      (None, 32)                800       \n",
      "                                                                 \n",
      " Hidden_Layer_2 (Dense)      (None, 8)                 264       \n",
      "                                                                 \n",
      " Hidden_Layer_3 (Dense)      (None, 2)                 18        \n",
      "                                                                 \n",
      " Output (Dense)              (None, 1)                 3         \n",
      "                                                                 \n",
      "=================================================================\n",
      "Total params: 1,085\n",
      "Trainable params: 1,085\n",
      "Non-trainable params: 0\n",
      "_________________________________________________________________\n"
     ]
    }
   ],
   "source": [
    "model.summary()"
   ]
  },
  {
   "cell_type": "code",
   "execution_count": 13,
   "id": "59a5aebb",
   "metadata": {},
   "outputs": [
    {
     "data": {
      "text/plain": [
       "<keras.callbacks.History at 0x1d895734a30>"
      ]
     },
     "execution_count": 13,
     "metadata": {},
     "output_type": "execute_result"
    }
   ],
   "source": [
    "model.compile(optimizer='adam', loss='mean_squared_error', metrics=['mae'])\n",
    "\n",
    "model.fit(X_train, y_train, epochs=20, verbose=0)"
   ]
  },
  {
   "cell_type": "code",
   "execution_count": 14,
   "id": "39a57d13",
   "metadata": {},
   "outputs": [
    {
     "name": "stdout",
     "output_type": "stream",
     "text": [
      "\n",
      "MAE for train set : 13354.725\n",
      "MAE for test set    : 12412.527\n"
     ]
    }
   ],
   "source": [
    "mae_train = model.evaluate(X_train, y_train, verbose = 0)[1]\n",
    "mae_test = model.evaluate(X_test, y_test, verbose = 0)[1]\n",
    "\n",
    "print(\"\\nMAE for train set : {:.3f}\".format(mae_train))\n",
    "print(\"MAE for test set    : {:.3f}\".format(mae_test))"
   ]
  },
  {
   "cell_type": "code",
   "execution_count": 15,
   "id": "6cf16a9b",
   "metadata": {},
   "outputs": [
    {
     "data": {
      "text/plain": [
       "<keras.callbacks.History at 0x1d89696c130>"
      ]
     },
     "execution_count": 15,
     "metadata": {},
     "output_type": "execute_result"
    }
   ],
   "source": [
    "model.compile(optimizer='adam', loss='mean_squared_error', metrics=['mae'])\n",
    "\n",
    "model.fit(X_train, y_train, epochs=50, verbose=0)"
   ]
  },
  {
   "cell_type": "code",
   "execution_count": 16,
   "id": "d32395aa",
   "metadata": {},
   "outputs": [
    {
     "name": "stdout",
     "output_type": "stream",
     "text": [
      "\n",
      "MAE for train set : 13354.426\n",
      "MAE for test set    : 12412.229\n"
     ]
    }
   ],
   "source": [
    "mae_train = model.evaluate(X_train, y_train, verbose = 0)[1]\n",
    "mae_test = model.evaluate(X_test, y_test, verbose = 0)[1]\n",
    "\n",
    "print(\"\\nMAE for train set : {:.3f}\".format(mae_train))\n",
    "print(\"MAE for test set    : {:.3f}\".format(mae_test))"
   ]
  },
  {
   "cell_type": "code",
   "execution_count": 17,
   "id": "d4211d19",
   "metadata": {},
   "outputs": [
    {
     "data": {
      "text/plain": [
       "<keras.callbacks.History at 0x1d897a56400>"
      ]
     },
     "execution_count": 17,
     "metadata": {},
     "output_type": "execute_result"
    }
   ],
   "source": [
    "model.compile(optimizer='adam', loss='mean_squared_error', metrics=['mae'])\n",
    "\n",
    "model.fit(X_train, y_train, epochs=5000, verbose=0)"
   ]
  },
  {
   "cell_type": "code",
   "execution_count": 18,
   "id": "c43e18dc",
   "metadata": {},
   "outputs": [
    {
     "name": "stdout",
     "output_type": "stream",
     "text": [
      "\n",
      "MAE for train set : 13324.574\n",
      "MAE for test set    : 12382.378\n"
     ]
    }
   ],
   "source": [
    "mae_train = model.evaluate(X_train, y_train, verbose = 0)[1]\n",
    "mae_test = model.evaluate(X_test, y_test, verbose = 0)[1]\n",
    "\n",
    "print(\"\\nMAE for train set : {:.3f}\".format(mae_train))\n",
    "print(\"MAE for test set    : {:.3f}\".format(mae_test))"
   ]
  },
  {
   "cell_type": "markdown",
   "id": "9125a390",
   "metadata": {},
   "source": [
    "**Sonuçlar çok fazla değişiklik göstermedi.**"
   ]
  }
 ],
 "metadata": {
  "kernelspec": {
   "display_name": "Python 3",
   "language": "python",
   "name": "python3"
  },
  "language_info": {
   "codemirror_mode": {
    "name": "ipython",
    "version": 3
   },
   "file_extension": ".py",
   "mimetype": "text/x-python",
   "name": "python",
   "nbconvert_exporter": "python",
   "pygments_lexer": "ipython3",
   "version": "3.8.8"
  }
 },
 "nbformat": 4,
 "nbformat_minor": 5
}
